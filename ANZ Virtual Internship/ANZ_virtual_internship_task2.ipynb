{
 "cells": [
  {
   "cell_type": "code",
   "execution_count": 1,
   "id": "519049cb-34c6-49a5-97fc-b2fdef809964",
   "metadata": {},
   "outputs": [],
   "source": [
    "import pandas as pd \n",
    "import numpy as np \n",
    "import seaborn as sns\n",
    "import matplotlib.pyplot as plt\n",
    "import datetime as dt\n",
    "from statistics import mode\n",
    "\n",
    "import statsmodels.api as sm\n",
    "from sklearn.model_selection import train_test_split\n",
    "from sklearn.linear_model import LinearRegression\n",
    "from sklearn import metrics"
   ]
  },
  {
   "cell_type": "code",
   "execution_count": 2,
   "id": "b0d6dcf5-e37b-4e8d-9347-33c2fb9b0e14",
   "metadata": {},
   "outputs": [],
   "source": [
    "# set asthetics \n",
    "sns.set()"
   ]
  },
  {
   "cell_type": "code",
   "execution_count": 3,
   "id": "0beaede5-d090-4070-94a6-7bf0ee7660e2",
   "metadata": {},
   "outputs": [],
   "source": [
    "# load data\n",
    "df = pd.read_csv('ANZ_transaction_final.csv')"
   ]
  },
  {
   "cell_type": "markdown",
   "id": "4273723a-0ecd-45a6-9261-d6d08df90488",
   "metadata": {},
   "source": [
    "### Target - Annual Salary"
   ]
  },
  {
   "cell_type": "code",
   "execution_count": 4,
   "id": "43a9ee6a-1902-4e1c-a551-189654f1016c",
   "metadata": {},
   "outputs": [],
   "source": [
    "df['date'] = pd.to_datetime(df['date'], format='%Y/%m/%d')"
   ]
  },
  {
   "cell_type": "code",
   "execution_count": 5,
   "id": "e9a7a1c8-df58-4f59-a60d-cf4c09840e91",
   "metadata": {},
   "outputs": [],
   "source": [
    "# create a list of customers\n",
    "list_customer = df['customer_id'].unique()"
   ]
  },
  {
   "cell_type": "code",
   "execution_count": 6,
   "id": "029e5e84-498b-400b-ae52-6be2505fa5e9",
   "metadata": {},
   "outputs": [],
   "source": [
    "df_sal = df[df['txn_description']=='PAY/SALARY']"
   ]
  },
  {
   "cell_type": "code",
   "execution_count": 7,
   "id": "b2f1d00e-f3c4-47a4-855f-8502ecd409d3",
   "metadata": {},
   "outputs": [
    {
     "data": {
      "text/html": [
       "<div>\n",
       "<style scoped>\n",
       "    .dataframe tbody tr th:only-of-type {\n",
       "        vertical-align: middle;\n",
       "    }\n",
       "\n",
       "    .dataframe tbody tr th {\n",
       "        vertical-align: top;\n",
       "    }\n",
       "\n",
       "    .dataframe thead th {\n",
       "        text-align: right;\n",
       "    }\n",
       "</style>\n",
       "<table border=\"1\" class=\"dataframe\">\n",
       "  <thead>\n",
       "    <tr style=\"text-align: right;\">\n",
       "      <th></th>\n",
       "      <th>date</th>\n",
       "      <th>amount</th>\n",
       "      <th>freq</th>\n",
       "    </tr>\n",
       "  </thead>\n",
       "  <tbody>\n",
       "    <tr>\n",
       "      <th>0</th>\n",
       "      <td>2018-08-23</td>\n",
       "      <td>4910.9</td>\n",
       "      <td>NaN</td>\n",
       "    </tr>\n",
       "    <tr>\n",
       "      <th>1</th>\n",
       "      <td>2018-10-23</td>\n",
       "      <td>4910.9</td>\n",
       "      <td>61.0</td>\n",
       "    </tr>\n",
       "  </tbody>\n",
       "</table>\n",
       "</div>"
      ],
      "text/plain": [
       "        date  amount  freq\n",
       "0 2018-08-23  4910.9   NaN\n",
       "1 2018-10-23  4910.9  61.0"
      ]
     },
     "execution_count": 7,
     "metadata": {},
     "output_type": "execute_result"
    }
   ],
   "source": [
    "# example (for the calculation below)\n",
    "temp = df_sal.loc[df_sal['customer_id']=='CUS-497688347', ['date', 'amount']].groupby('date', as_index=False).sum()\n",
    "temp['freq'] = temp['date'].diff().dt.days\n",
    "temp"
   ]
  },
  {
   "cell_type": "code",
   "execution_count": 8,
   "id": "bd5f12ae-5606-4e68-9cfd-93fbf401cf90",
   "metadata": {},
   "outputs": [
    {
     "data": {
      "text/plain": [
       "61.0"
      ]
     },
     "execution_count": 8,
     "metadata": {},
     "output_type": "execute_result"
    }
   ],
   "source": [
    "max(temp['freq'].mode())"
   ]
  },
  {
   "cell_type": "code",
   "execution_count": 9,
   "id": "65dbcc83-b2cd-4edd-8610-a043aefd4308",
   "metadata": {},
   "outputs": [],
   "source": [
    "# calculate annual salary payment frequency and amount (for each payment) \n",
    "freq_mode = []\n",
    "amount_mode = []\n",
    "\n",
    "for customer in list_customer:\n",
    "    sal_per_customer = df_sal.loc[df_sal['customer_id']==customer, ['date', 'amount']].groupby('date', as_index=False).sum()\n",
    "    sal_per_customer['freq'] = sal_per_customer['date'].diff().dt.days\n",
    "    freq_mode.append(max(sal_per_customer['freq'].mode()))  # we use max(.mode()) here to account for the situatio where there are multiple modes\n",
    "    amount_mode.append(mode(sal_per_customer['amount']))"
   ]
  },
  {
   "cell_type": "code",
   "execution_count": 10,
   "id": "267f1a74-4580-4789-9b21-8fb54e2a6968",
   "metadata": {},
   "outputs": [],
   "source": [
    "df_sal_freq = pd.DataFrame({'customer_id':list_customer, 'freq_mode':freq_mode, 'amount_mode':amount_mode})"
   ]
  },
  {
   "cell_type": "code",
   "execution_count": 11,
   "id": "17b1d832-1329-4a2c-8197-9435e9638086",
   "metadata": {},
   "outputs": [],
   "source": [
    "# calculate annual salary\n",
    "df_sal_freq['salary'] = df_sal_freq['amount_mode']/df_sal_freq['freq_mode']*365.25 "
   ]
  },
  {
   "cell_type": "code",
   "execution_count": 12,
   "id": "ee3a1c3a-3bf4-48e5-9939-6cb64fc83446",
   "metadata": {},
   "outputs": [
    {
     "data": {
      "text/html": [
       "<div>\n",
       "<style scoped>\n",
       "    .dataframe tbody tr th:only-of-type {\n",
       "        vertical-align: middle;\n",
       "    }\n",
       "\n",
       "    .dataframe tbody tr th {\n",
       "        vertical-align: top;\n",
       "    }\n",
       "\n",
       "    .dataframe thead th {\n",
       "        text-align: right;\n",
       "    }\n",
       "</style>\n",
       "<table border=\"1\" class=\"dataframe\">\n",
       "  <thead>\n",
       "    <tr style=\"text-align: right;\">\n",
       "      <th></th>\n",
       "      <th>customer_id</th>\n",
       "      <th>freq_mode</th>\n",
       "      <th>amount_mode</th>\n",
       "      <th>salary</th>\n",
       "    </tr>\n",
       "  </thead>\n",
       "  <tbody>\n",
       "    <tr>\n",
       "      <th>0</th>\n",
       "      <td>CUS-2487424745</td>\n",
       "      <td>7.0</td>\n",
       "      <td>1013.67</td>\n",
       "      <td>52891.852500</td>\n",
       "    </tr>\n",
       "    <tr>\n",
       "      <th>1</th>\n",
       "      <td>CUS-2142601169</td>\n",
       "      <td>7.0</td>\n",
       "      <td>1002.13</td>\n",
       "      <td>52289.711786</td>\n",
       "    </tr>\n",
       "  </tbody>\n",
       "</table>\n",
       "</div>"
      ],
      "text/plain": [
       "      customer_id  freq_mode  amount_mode        salary\n",
       "0  CUS-2487424745        7.0      1013.67  52891.852500\n",
       "1  CUS-2142601169        7.0      1002.13  52289.711786"
      ]
     },
     "execution_count": 12,
     "metadata": {},
     "output_type": "execute_result"
    }
   ],
   "source": [
    "df_sal_freq.head(2)"
   ]
  },
  {
   "cell_type": "code",
   "execution_count": 13,
   "id": "7bdae209-0d24-4a1f-aeaa-965a204448d0",
   "metadata": {},
   "outputs": [
    {
     "data": {
      "text/plain": [
       "14.0    51\n",
       "7.0     40\n",
       "31.0     5\n",
       "30.0     2\n",
       "61.0     1\n",
       "32.0     1\n",
       "Name: freq_mode, dtype: int64"
      ]
     },
     "execution_count": 13,
     "metadata": {},
     "output_type": "execute_result"
    }
   ],
   "source": [
    "df_sal_freq['freq_mode'].value_counts()"
   ]
  },
  {
   "cell_type": "code",
   "execution_count": 14,
   "id": "6c235de9-e39b-4edc-9e6b-07d3870357cd",
   "metadata": {},
   "outputs": [
    {
     "data": {
      "text/plain": [
       "Text(0.5, 1.0, 'Customer Annual Salary Distribution')"
      ]
     },
     "execution_count": 14,
     "metadata": {},
     "output_type": "execute_result"
    },
    {
     "data": {
      "image/png": "[encoded data removed]",
      "text/plain": [
       "<Figure size 432x288 with 1 Axes>"
      ]
     },
     "metadata": {},
     "output_type": "display_data"
    }
   ],
   "source": [
    "# create a histgram of salary\n",
    "sns.histplot(x=df_sal_freq['salary'], bins=10)\n",
    "plt.title('Customer Annual Salary Distribution')"
   ]
  },
  {
   "cell_type": "markdown",
   "id": "b283b3a3-cd26-4889-8fcb-36460cbb7cc5",
   "metadata": {},
   "source": [
    "### Features"
   ]
  },
  {
   "cell_type": "markdown",
   "id": "2ffe7f55-1b85-4257-9ca5-0df7d1e09c06",
   "metadata": {},
   "source": [
    "Demographic features:\n",
    "- age\n",
    "- gender\n",
    "- state\n",
    "\n",
    "Generated features related to consumption behaviour:\n",
    "- average volume of transactions per week (vol_weekly_trans)\n",
    "- volume of large transactions (vol_large_trans)\n",
    "- median purchasing amount (pur_med)\n",
    "- max purchasing amount\n",
    "- average purchasing amount (pur_mean)\n",
    "- median balance (bal_med)\n",
    "- median purchase distance (dist_med)"
   ]
  },
  {
   "cell_type": "markdown",
   "id": "e5f0b51d-d0b6-454c-bbaf-b6109fe9c1d7",
   "metadata": {},
   "source": [
    "#### Feature Engineering"
   ]
  },
  {
   "cell_type": "markdown",
   "id": "9241d3fd-0b25-474d-88c8-e9c9e728c702",
   "metadata": {},
   "source": [
    "##### vol_weekly_trans, vol_large_trans, pur_med, pur_mean, pur_max"
   ]
  },
  {
   "cell_type": "code",
   "execution_count": 15,
   "id": "b6db8e24-1950-49ea-8b35-5a84d7dbf855",
   "metadata": {},
   "outputs": [],
   "source": [
    "# purchase transaction df \n",
    "df_pur = df[(df['txn_description']=='POS')|(df['txn_description']=='SALES-POS')]"
   ]
  },
  {
   "cell_type": "code",
   "execution_count": 16,
   "id": "8df9a923-13ac-4c2a-9d79-acc8268368d1",
   "metadata": {},
   "outputs": [
    {
     "data": {
      "text/html": [
       "<div>\n",
       "<style scoped>\n",
       "    .dataframe tbody tr th:only-of-type {\n",
       "        vertical-align: middle;\n",
       "    }\n",
       "\n",
       "    .dataframe tbody tr th {\n",
       "        vertical-align: top;\n",
       "    }\n",
       "\n",
       "    .dataframe thead th {\n",
       "        text-align: right;\n",
       "    }\n",
       "</style>\n",
       "<table border=\"1\" class=\"dataframe\">\n",
       "  <thead>\n",
       "    <tr style=\"text-align: right;\">\n",
       "      <th></th>\n",
       "      <th>customer_id</th>\n",
       "      <th>age</th>\n",
       "      <th>vol_weekly_trans</th>\n",
       "      <th>vol_large_trans</th>\n",
       "      <th>pur_med</th>\n",
       "      <th>pur_max</th>\n",
       "      <th>pur_mean</th>\n",
       "    </tr>\n",
       "  </thead>\n",
       "  <tbody>\n",
       "    <tr>\n",
       "      <th>0</th>\n",
       "      <td>CUS-1005756958</td>\n",
       "      <td>53</td>\n",
       "      <td>13.440000</td>\n",
       "      <td>4</td>\n",
       "      <td>23.285</td>\n",
       "      <td>226.82</td>\n",
       "      <td>37.726250</td>\n",
       "    </tr>\n",
       "    <tr>\n",
       "      <th>1</th>\n",
       "      <td>CUS-1117979751</td>\n",
       "      <td>21</td>\n",
       "      <td>11.741935</td>\n",
       "      <td>1</td>\n",
       "      <td>17.895</td>\n",
       "      <td>2885.85</td>\n",
       "      <td>76.458077</td>\n",
       "    </tr>\n",
       "    <tr>\n",
       "      <th>2</th>\n",
       "      <td>CUS-1140341822</td>\n",
       "      <td>28</td>\n",
       "      <td>13.787879</td>\n",
       "      <td>5</td>\n",
       "      <td>20.180</td>\n",
       "      <td>1271.46</td>\n",
       "      <td>67.531385</td>\n",
       "    </tr>\n",
       "    <tr>\n",
       "      <th>3</th>\n",
       "      <td>CUS-1147642491</td>\n",
       "      <td>34</td>\n",
       "      <td>13.641026</td>\n",
       "      <td>5</td>\n",
       "      <td>36.640</td>\n",
       "      <td>432.92</td>\n",
       "      <td>51.128289</td>\n",
       "    </tr>\n",
       "    <tr>\n",
       "      <th>4</th>\n",
       "      <td>CUS-1196156254</td>\n",
       "      <td>34</td>\n",
       "      <td>17.553846</td>\n",
       "      <td>6</td>\n",
       "      <td>20.960</td>\n",
       "      <td>390.67</td>\n",
       "      <td>30.310491</td>\n",
       "    </tr>\n",
       "  </tbody>\n",
       "</table>\n",
       "</div>"
      ],
      "text/plain": [
       "      customer_id  age  vol_weekly_trans  vol_large_trans  pur_med  pur_max  \\\n",
       "0  CUS-1005756958   53         13.440000                4   23.285   226.82   \n",
       "1  CUS-1117979751   21         11.741935                1   17.895  2885.85   \n",
       "2  CUS-1140341822   28         13.787879                5   20.180  1271.46   \n",
       "3  CUS-1147642491   34         13.641026                5   36.640   432.92   \n",
       "4  CUS-1196156254   34         17.553846                6   20.960   390.67   \n",
       "\n",
       "    pur_mean  \n",
       "0  37.726250  \n",
       "1  76.458077  \n",
       "2  67.531385  \n",
       "3  51.128289  \n",
       "4  30.310491  "
      ]
     },
     "execution_count": 16,
     "metadata": {},
     "output_type": "execute_result"
    }
   ],
   "source": [
    "# create fearures related to purchase behaviour\n",
    "df_pur_mean = df_pur.assign(large_trans=np.where(df_pur['amount']>100, df_pur['transaction_id'], np.NaN)) \\\n",
    "                    .groupby(['customer_id', 'age'], as_index=False) \\\n",
    "                    .agg(vol_weekly_trans=('date', lambda x: 7*len(x)/x.nunique()),\n",
    "                         vol_large_trans=('large_trans', 'count'), \n",
    "                         pur_med=('amount', 'median'),\n",
    "                         pur_max=('amount', 'max'), \n",
    "                         pur_mean=('amount', 'mean'))\n",
    "                         \n",
    "                    \n",
    "df_pur_mean.head()"
   ]
  },
  {
   "cell_type": "markdown",
   "id": "690218d2-458e-470c-8ffa-d19bcb03e799",
   "metadata": {},
   "source": [
    "> This shows a possible relationship between age and salary: positive correlation when age is below 40 and negative when it goes above. Therefore, we go back and create a dummy variable to represent it."
   ]
  },
  {
   "cell_type": "markdown",
   "id": "4bb559ef-f23c-465f-bab7-d16a4dfdf512",
   "metadata": {},
   "source": [
    "##### age dummy"
   ]
  },
  {
   "cell_type": "code",
   "execution_count": 17,
   "id": "0df25fb2-982a-408c-a7d9-481c37dc45da",
   "metadata": {},
   "outputs": [
    {
     "data": {
      "text/plain": [
       "<AxesSubplot:xlabel='age', ylabel='salary'>"
      ]
     },
     "execution_count": 17,
     "metadata": {},
     "output_type": "execute_result"
    },
    {
     "data": {
      "image/png": "[encoded data removed]",
      "text/plain": [
       "<Figure size 432x288 with 1 Axes>"
      ]
     },
     "metadata": {},
     "output_type": "display_data"
    }
   ],
   "source": [
    "sns.histplot(data=df_sal_freq.merge(df_pur_mean, on='customer_id'), x='age', y='salary')"
   ]
  },
  {
   "cell_type": "code",
   "execution_count": 18,
   "id": "bbf27f80-d0d3-478c-a814-9dc646821f4d",
   "metadata": {},
   "outputs": [],
   "source": [
    "df['age_below_40'] = df['age'].apply(lambda x: 1 if x<=40 else 0)\n",
    "df['age_above_40'] = df['age'].apply(lambda x: 1 if x>40 else 0)"
   ]
  },
  {
   "cell_type": "markdown",
   "id": "90770b18-330e-4588-b161-34194a714493",
   "metadata": {},
   "source": [
    "##### dist_med, gender dummy, state dummy"
   ]
  },
  {
   "cell_type": "code",
   "execution_count": 19,
   "id": "071410bf-1350-4a6d-a790-29113893bd72",
   "metadata": {},
   "outputs": [],
   "source": [
    "df_temp = df.groupby(['customer_id', 'gender', 'age_below_40', 'age_above_40'], as_index=False) \\\n",
    "            .agg(dist_med=('dist', 'median'), \n",
    "                 state=('merchant_state', lambda x: x.value_counts().index[0]),  # assume the most appeared mechant_state is where th customer lives \n",
    "                 bal_med=('balance', 'median'))                                                                              "
   ]
  },
  {
   "cell_type": "code",
   "execution_count": 20,
   "id": "88334527-b4c9-494e-a89d-568716249312",
   "metadata": {},
   "outputs": [
    {
     "data": {
      "text/html": [
       "<div>\n",
       "<style scoped>\n",
       "    .dataframe tbody tr th:only-of-type {\n",
       "        vertical-align: middle;\n",
       "    }\n",
       "\n",
       "    .dataframe tbody tr th {\n",
       "        vertical-align: top;\n",
       "    }\n",
       "\n",
       "    .dataframe thead th {\n",
       "        text-align: right;\n",
       "    }\n",
       "</style>\n",
       "<table border=\"1\" class=\"dataframe\">\n",
       "  <thead>\n",
       "    <tr style=\"text-align: right;\">\n",
       "      <th></th>\n",
       "      <th>customer_id</th>\n",
       "      <th>gender</th>\n",
       "      <th>age_below_40</th>\n",
       "      <th>age_above_40</th>\n",
       "      <th>dist_med</th>\n",
       "      <th>state</th>\n",
       "      <th>bal_med</th>\n",
       "    </tr>\n",
       "  </thead>\n",
       "  <tbody>\n",
       "    <tr>\n",
       "      <th>0</th>\n",
       "      <td>CUS-1005756958</td>\n",
       "      <td>F</td>\n",
       "      <td>0</td>\n",
       "      <td>1</td>\n",
       "      <td>23.436556</td>\n",
       "      <td>QLD</td>\n",
       "      <td>1204.40</td>\n",
       "    </tr>\n",
       "    <tr>\n",
       "      <th>1</th>\n",
       "      <td>CUS-1117979751</td>\n",
       "      <td>M</td>\n",
       "      <td>1</td>\n",
       "      <td>0</td>\n",
       "      <td>25.263214</td>\n",
       "      <td>WA</td>\n",
       "      <td>8838.41</td>\n",
       "    </tr>\n",
       "    <tr>\n",
       "      <th>2</th>\n",
       "      <td>CUS-1140341822</td>\n",
       "      <td>M</td>\n",
       "      <td>1</td>\n",
       "      <td>0</td>\n",
       "      <td>46.680844</td>\n",
       "      <td>VIC</td>\n",
       "      <td>6358.35</td>\n",
       "    </tr>\n",
       "    <tr>\n",
       "      <th>3</th>\n",
       "      <td>CUS-1147642491</td>\n",
       "      <td>F</td>\n",
       "      <td>1</td>\n",
       "      <td>0</td>\n",
       "      <td>19.944993</td>\n",
       "      <td>NSW</td>\n",
       "      <td>8473.43</td>\n",
       "    </tr>\n",
       "    <tr>\n",
       "      <th>4</th>\n",
       "      <td>CUS-1196156254</td>\n",
       "      <td>F</td>\n",
       "      <td>1</td>\n",
       "      <td>0</td>\n",
       "      <td>871.360981</td>\n",
       "      <td>SA</td>\n",
       "      <td>22312.76</td>\n",
       "    </tr>\n",
       "  </tbody>\n",
       "</table>\n",
       "</div>"
      ],
      "text/plain": [
       "      customer_id gender  age_below_40  age_above_40    dist_med state  \\\n",
       "0  CUS-1005756958      F             0             1   23.436556   QLD   \n",
       "1  CUS-1117979751      M             1             0   25.263214    WA   \n",
       "2  CUS-1140341822      M             1             0   46.680844   VIC   \n",
       "3  CUS-1147642491      F             1             0   19.944993   NSW   \n",
       "4  CUS-1196156254      F             1             0  871.360981    SA   \n",
       "\n",
       "    bal_med  \n",
       "0   1204.40  \n",
       "1   8838.41  \n",
       "2   6358.35  \n",
       "3   8473.43  \n",
       "4  22312.76  "
      ]
     },
     "execution_count": 20,
     "metadata": {},
     "output_type": "execute_result"
    }
   ],
   "source": [
    "df_temp.head()"
   ]
  },
  {
   "cell_type": "code",
   "execution_count": 21,
   "id": "66c38b89-d9db-490c-b359-d0814d154c82",
   "metadata": {},
   "outputs": [],
   "source": [
    "# one-hot encoding for categorical variables\n",
    "df_temp = pd.get_dummies(df_temp, columns=['gender', 'state'])"
   ]
  },
  {
   "cell_type": "markdown",
   "id": "d1e93c88-eae3-482b-829b-b4d349d4796c",
   "metadata": {},
   "source": [
    "#### Put it all together"
   ]
  },
  {
   "cell_type": "code",
   "execution_count": 22,
   "id": "fae3d4a2-745c-4f32-b8f4-5819ff1311ec",
   "metadata": {},
   "outputs": [],
   "source": [
    "# combine target and all the features \n",
    "df_customer = df_sal_freq[['customer_id', 'salary']].merge(df_pur_mean, on='customer_id', how='left').merge(df_temp, on='customer_id', how='left')"
   ]
  },
  {
   "cell_type": "code",
   "execution_count": 23,
   "id": "a8df936c-e46b-47b4-8f1d-4763280a2062",
   "metadata": {},
   "outputs": [
    {
     "data": {
      "text/html": [
       "<div>\n",
       "<style scoped>\n",
       "    .dataframe tbody tr th:only-of-type {\n",
       "        vertical-align: middle;\n",
       "    }\n",
       "\n",
       "    .dataframe tbody tr th {\n",
       "        vertical-align: top;\n",
       "    }\n",
       "\n",
       "    .dataframe thead th {\n",
       "        text-align: right;\n",
       "    }\n",
       "</style>\n",
       "<table border=\"1\" class=\"dataframe\">\n",
       "  <thead>\n",
       "    <tr style=\"text-align: right;\">\n",
       "      <th></th>\n",
       "      <th>customer_id</th>\n",
       "      <th>salary</th>\n",
       "      <th>age</th>\n",
       "      <th>vol_weekly_trans</th>\n",
       "      <th>vol_large_trans</th>\n",
       "      <th>pur_med</th>\n",
       "      <th>pur_max</th>\n",
       "      <th>pur_mean</th>\n",
       "      <th>age_below_40</th>\n",
       "      <th>age_above_40</th>\n",
       "      <th>dist_med</th>\n",
       "      <th>bal_med</th>\n",
       "      <th>gender_F</th>\n",
       "      <th>gender_M</th>\n",
       "      <th>state_NSW</th>\n",
       "      <th>state_NT</th>\n",
       "      <th>state_QLD</th>\n",
       "      <th>state_SA</th>\n",
       "      <th>state_VIC</th>\n",
       "      <th>state_WA</th>\n",
       "    </tr>\n",
       "  </thead>\n",
       "  <tbody>\n",
       "    <tr>\n",
       "      <th>0</th>\n",
       "      <td>CUS-2487424745</td>\n",
       "      <td>52891.852500</td>\n",
       "      <td>26</td>\n",
       "      <td>45.329268</td>\n",
       "      <td>4</td>\n",
       "      <td>10.700</td>\n",
       "      <td>1452.21</td>\n",
       "      <td>18.491921</td>\n",
       "      <td>1</td>\n",
       "      <td>0</td>\n",
       "      <td>14.743016</td>\n",
       "      <td>1580.40</td>\n",
       "      <td>1</td>\n",
       "      <td>0</td>\n",
       "      <td>0</td>\n",
       "      <td>0</td>\n",
       "      <td>1</td>\n",
       "      <td>0</td>\n",
       "      <td>0</td>\n",
       "      <td>0</td>\n",
       "    </tr>\n",
       "    <tr>\n",
       "      <th>1</th>\n",
       "      <td>CUS-2142601169</td>\n",
       "      <td>52289.711786</td>\n",
       "      <td>38</td>\n",
       "      <td>27.600000</td>\n",
       "      <td>7</td>\n",
       "      <td>14.215</td>\n",
       "      <td>2349.55</td>\n",
       "      <td>35.093333</td>\n",
       "      <td>1</td>\n",
       "      <td>0</td>\n",
       "      <td>23.124223</td>\n",
       "      <td>1132.66</td>\n",
       "      <td>0</td>\n",
       "      <td>1</td>\n",
       "      <td>1</td>\n",
       "      <td>0</td>\n",
       "      <td>0</td>\n",
       "      <td>0</td>\n",
       "      <td>0</td>\n",
       "      <td>0</td>\n",
       "    </tr>\n",
       "    <tr>\n",
       "      <th>2</th>\n",
       "      <td>CUS-1614226872</td>\n",
       "      <td>46547.981786</td>\n",
       "      <td>40</td>\n",
       "      <td>24.838710</td>\n",
       "      <td>9</td>\n",
       "      <td>22.000</td>\n",
       "      <td>235.36</td>\n",
       "      <td>31.114864</td>\n",
       "      <td>1</td>\n",
       "      <td>0</td>\n",
       "      <td>26.084318</td>\n",
       "      <td>3618.50</td>\n",
       "      <td>1</td>\n",
       "      <td>0</td>\n",
       "      <td>0</td>\n",
       "      <td>0</td>\n",
       "      <td>1</td>\n",
       "      <td>0</td>\n",
       "      <td>0</td>\n",
       "      <td>0</td>\n",
       "    </tr>\n",
       "    <tr>\n",
       "      <th>3</th>\n",
       "      <td>CUS-2688605418</td>\n",
       "      <td>60534.969643</td>\n",
       "      <td>20</td>\n",
       "      <td>14.140000</td>\n",
       "      <td>9</td>\n",
       "      <td>21.620</td>\n",
       "      <td>444.28</td>\n",
       "      <td>40.687525</td>\n",
       "      <td>1</td>\n",
       "      <td>0</td>\n",
       "      <td>16.942323</td>\n",
       "      <td>5616.63</td>\n",
       "      <td>0</td>\n",
       "      <td>1</td>\n",
       "      <td>1</td>\n",
       "      <td>0</td>\n",
       "      <td>0</td>\n",
       "      <td>0</td>\n",
       "      <td>0</td>\n",
       "      <td>0</td>\n",
       "    </tr>\n",
       "    <tr>\n",
       "      <th>4</th>\n",
       "      <td>CUS-4123612273</td>\n",
       "      <td>55728.801429</td>\n",
       "      <td>43</td>\n",
       "      <td>29.750000</td>\n",
       "      <td>9</td>\n",
       "      <td>24.860</td>\n",
       "      <td>760.27</td>\n",
       "      <td>58.124235</td>\n",
       "      <td>0</td>\n",
       "      <td>1</td>\n",
       "      <td>16.350294</td>\n",
       "      <td>6162.45</td>\n",
       "      <td>1</td>\n",
       "      <td>0</td>\n",
       "      <td>0</td>\n",
       "      <td>0</td>\n",
       "      <td>0</td>\n",
       "      <td>0</td>\n",
       "      <td>1</td>\n",
       "      <td>0</td>\n",
       "    </tr>\n",
       "  </tbody>\n",
       "</table>\n",
       "</div>"
      ],
      "text/plain": [
       "      customer_id        salary  age  vol_weekly_trans  vol_large_trans  \\\n",
       "0  CUS-2487424745  52891.852500   26         45.329268                4   \n",
       "1  CUS-2142601169  52289.711786   38         27.600000                7   \n",
       "2  CUS-1614226872  46547.981786   40         24.838710                9   \n",
       "3  CUS-2688605418  60534.969643   20         14.140000                9   \n",
       "4  CUS-4123612273  55728.801429   43         29.750000                9   \n",
       "\n",
       "   pur_med  pur_max   pur_mean  age_below_40  age_above_40   dist_med  \\\n",
       "0   10.700  1452.21  18.491921             1             0  14.743016   \n",
       "1   14.215  2349.55  35.093333             1             0  23.124223   \n",
       "2   22.000   235.36  31.114864             1             0  26.084318   \n",
       "3   21.620   444.28  40.687525             1             0  16.942323   \n",
       "4   24.860   760.27  58.124235             0             1  16.350294   \n",
       "\n",
       "   bal_med  gender_F  gender_M  state_NSW  state_NT  state_QLD  state_SA  \\\n",
       "0  1580.40         1         0          0         0          1         0   \n",
       "1  1132.66         0         1          1         0          0         0   \n",
       "2  3618.50         1         0          0         0          1         0   \n",
       "3  5616.63         0         1          1         0          0         0   \n",
       "4  6162.45         1         0          0         0          0         0   \n",
       "\n",
       "   state_VIC  state_WA  \n",
       "0          0         0  \n",
       "1          0         0  \n",
       "2          0         0  \n",
       "3          0         0  \n",
       "4          1         0  "
      ]
     },
     "execution_count": 23,
     "metadata": {},
     "output_type": "execute_result"
    }
   ],
   "source": [
    "df_customer.head()"
   ]
  },
  {
   "cell_type": "code",
   "execution_count": 24,
   "id": "c6b62df3-acba-413e-9dbe-7a60b52956be",
   "metadata": {},
   "outputs": [
    {
     "name": "stdout",
     "output_type": "stream",
     "text": [
      "<class 'pandas.core.frame.DataFrame'>\n",
      "Int64Index: 100 entries, 0 to 99\n",
      "Data columns (total 20 columns):\n",
      " #   Column            Non-Null Count  Dtype  \n",
      "---  ------            --------------  -----  \n",
      " 0   customer_id       100 non-null    object \n",
      " 1   salary            100 non-null    float64\n",
      " 2   age               100 non-null    int64  \n",
      " 3   vol_weekly_trans  100 non-null    float64\n",
      " 4   vol_large_trans   100 non-null    int64  \n",
      " 5   pur_med           100 non-null    float64\n",
      " 6   pur_max           100 non-null    float64\n",
      " 7   pur_mean          100 non-null    float64\n",
      " 8   age_below_40      100 non-null    int64  \n",
      " 9   age_above_40      100 non-null    int64  \n",
      " 10  dist_med          100 non-null    float64\n",
      " 11  bal_med           100 non-null    float64\n",
      " 12  gender_F          100 non-null    uint8  \n",
      " 13  gender_M          100 non-null    uint8  \n",
      " 14  state_NSW         100 non-null    uint8  \n",
      " 15  state_NT          100 non-null    uint8  \n",
      " 16  state_QLD         100 non-null    uint8  \n",
      " 17  state_SA          100 non-null    uint8  \n",
      " 18  state_VIC         100 non-null    uint8  \n",
      " 19  state_WA          100 non-null    uint8  \n",
      "dtypes: float64(7), int64(4), object(1), uint8(8)\n",
      "memory usage: 10.9+ KB\n"
     ]
    }
   ],
   "source": [
    "df_customer.info()"
   ]
  },
  {
   "cell_type": "code",
   "execution_count": 25,
   "id": "5ecffed6-20a3-4a16-be95-26dc7f6f4b59",
   "metadata": {},
   "outputs": [
    {
     "data": {
      "text/html": [
       "<div>\n",
       "<style scoped>\n",
       "    .dataframe tbody tr th:only-of-type {\n",
       "        vertical-align: middle;\n",
       "    }\n",
       "\n",
       "    .dataframe tbody tr th {\n",
       "        vertical-align: top;\n",
       "    }\n",
       "\n",
       "    .dataframe thead th {\n",
       "        text-align: right;\n",
       "    }\n",
       "</style>\n",
       "<table border=\"1\" class=\"dataframe\">\n",
       "  <thead>\n",
       "    <tr style=\"text-align: right;\">\n",
       "      <th></th>\n",
       "      <th>salary</th>\n",
       "      <th>age</th>\n",
       "      <th>vol_weekly_trans</th>\n",
       "      <th>vol_large_trans</th>\n",
       "      <th>pur_med</th>\n",
       "      <th>pur_max</th>\n",
       "      <th>pur_mean</th>\n",
       "      <th>age_below_40</th>\n",
       "      <th>age_above_40</th>\n",
       "      <th>dist_med</th>\n",
       "      <th>bal_med</th>\n",
       "      <th>gender_F</th>\n",
       "      <th>gender_M</th>\n",
       "      <th>state_NSW</th>\n",
       "      <th>state_NT</th>\n",
       "      <th>state_QLD</th>\n",
       "      <th>state_SA</th>\n",
       "      <th>state_VIC</th>\n",
       "      <th>state_WA</th>\n",
       "    </tr>\n",
       "  </thead>\n",
       "  <tbody>\n",
       "    <tr>\n",
       "      <th>count</th>\n",
       "      <td>100.000000</td>\n",
       "      <td>100.000000</td>\n",
       "      <td>100.000000</td>\n",
       "      <td>100.000000</td>\n",
       "      <td>100.000000</td>\n",
       "      <td>100.000000</td>\n",
       "      <td>100.000000</td>\n",
       "      <td>100.000000</td>\n",
       "      <td>100.000000</td>\n",
       "      <td>100.000000</td>\n",
       "      <td>100.000000</td>\n",
       "      <td>100.000000</td>\n",
       "      <td>100.000000</td>\n",
       "      <td>100.000000</td>\n",
       "      <td>100.000000</td>\n",
       "      <td>100.000000</td>\n",
       "      <td>100.000000</td>\n",
       "      <td>100.000000</td>\n",
       "      <td>100.000000</td>\n",
       "    </tr>\n",
       "    <tr>\n",
       "      <th>mean</th>\n",
       "      <td>67103.639579</td>\n",
       "      <td>31.770000</td>\n",
       "      <td>14.442699</td>\n",
       "      <td>3.860000</td>\n",
       "      <td>25.071850</td>\n",
       "      <td>754.094200</td>\n",
       "      <td>48.797409</td>\n",
       "      <td>0.800000</td>\n",
       "      <td>0.200000</td>\n",
       "      <td>383.051287</td>\n",
       "      <td>17615.427500</td>\n",
       "      <td>0.440000</td>\n",
       "      <td>0.560000</td>\n",
       "      <td>0.290000</td>\n",
       "      <td>0.020000</td>\n",
       "      <td>0.100000</td>\n",
       "      <td>0.070000</td>\n",
       "      <td>0.390000</td>\n",
       "      <td>0.130000</td>\n",
       "    </tr>\n",
       "    <tr>\n",
       "      <th>std</th>\n",
       "      <td>25079.318644</td>\n",
       "      <td>11.544254</td>\n",
       "      <td>5.284075</td>\n",
       "      <td>2.930233</td>\n",
       "      <td>9.942594</td>\n",
       "      <td>1027.711536</td>\n",
       "      <td>33.723821</td>\n",
       "      <td>0.402015</td>\n",
       "      <td>0.402015</td>\n",
       "      <td>1236.073434</td>\n",
       "      <td>35407.246539</td>\n",
       "      <td>0.498888</td>\n",
       "      <td>0.498888</td>\n",
       "      <td>0.456048</td>\n",
       "      <td>0.140705</td>\n",
       "      <td>0.301511</td>\n",
       "      <td>0.256432</td>\n",
       "      <td>0.490207</td>\n",
       "      <td>0.337998</td>\n",
       "    </tr>\n",
       "    <tr>\n",
       "      <th>min</th>\n",
       "      <td>29405.020082</td>\n",
       "      <td>18.000000</td>\n",
       "      <td>7.000000</td>\n",
       "      <td>0.000000</td>\n",
       "      <td>10.700000</td>\n",
       "      <td>17.950000</td>\n",
       "      <td>12.625000</td>\n",
       "      <td>0.000000</td>\n",
       "      <td>0.000000</td>\n",
       "      <td>8.022262</td>\n",
       "      <td>1132.660000</td>\n",
       "      <td>0.000000</td>\n",
       "      <td>0.000000</td>\n",
       "      <td>0.000000</td>\n",
       "      <td>0.000000</td>\n",
       "      <td>0.000000</td>\n",
       "      <td>0.000000</td>\n",
       "      <td>0.000000</td>\n",
       "      <td>0.000000</td>\n",
       "    </tr>\n",
       "    <tr>\n",
       "      <th>25%</th>\n",
       "      <td>48074.987679</td>\n",
       "      <td>22.000000</td>\n",
       "      <td>11.184091</td>\n",
       "      <td>2.000000</td>\n",
       "      <td>17.685000</td>\n",
       "      <td>204.187500</td>\n",
       "      <td>30.572128</td>\n",
       "      <td>1.000000</td>\n",
       "      <td>0.000000</td>\n",
       "      <td>18.982986</td>\n",
       "      <td>4640.597500</td>\n",
       "      <td>0.000000</td>\n",
       "      <td>0.000000</td>\n",
       "      <td>0.000000</td>\n",
       "      <td>0.000000</td>\n",
       "      <td>0.000000</td>\n",
       "      <td>0.000000</td>\n",
       "      <td>0.000000</td>\n",
       "      <td>0.000000</td>\n",
       "    </tr>\n",
       "    <tr>\n",
       "      <th>50%</th>\n",
       "      <td>59861.735625</td>\n",
       "      <td>29.500000</td>\n",
       "      <td>13.579134</td>\n",
       "      <td>3.000000</td>\n",
       "      <td>23.395000</td>\n",
       "      <td>398.025000</td>\n",
       "      <td>38.292905</td>\n",
       "      <td>1.000000</td>\n",
       "      <td>0.000000</td>\n",
       "      <td>25.996355</td>\n",
       "      <td>7361.767500</td>\n",
       "      <td>0.000000</td>\n",
       "      <td>1.000000</td>\n",
       "      <td>0.000000</td>\n",
       "      <td>0.000000</td>\n",
       "      <td>0.000000</td>\n",
       "      <td>0.000000</td>\n",
       "      <td>0.000000</td>\n",
       "      <td>0.000000</td>\n",
       "    </tr>\n",
       "    <tr>\n",
       "      <th>75%</th>\n",
       "      <td>83591.962902</td>\n",
       "      <td>39.250000</td>\n",
       "      <td>15.812500</td>\n",
       "      <td>5.000000</td>\n",
       "      <td>28.593750</td>\n",
       "      <td>945.702500</td>\n",
       "      <td>55.486615</td>\n",
       "      <td>1.000000</td>\n",
       "      <td>0.000000</td>\n",
       "      <td>111.448800</td>\n",
       "      <td>12843.655000</td>\n",
       "      <td>1.000000</td>\n",
       "      <td>1.000000</td>\n",
       "      <td>1.000000</td>\n",
       "      <td>0.000000</td>\n",
       "      <td>0.000000</td>\n",
       "      <td>0.000000</td>\n",
       "      <td>1.000000</td>\n",
       "      <td>0.000000</td>\n",
       "    </tr>\n",
       "    <tr>\n",
       "      <th>max</th>\n",
       "      <td>135038.664643</td>\n",
       "      <td>78.000000</td>\n",
       "      <td>45.329268</td>\n",
       "      <td>15.000000</td>\n",
       "      <td>59.010000</td>\n",
       "      <td>7081.090000</td>\n",
       "      <td>241.917778</td>\n",
       "      <td>1.000000</td>\n",
       "      <td>1.000000</td>\n",
       "      <td>10814.305954</td>\n",
       "      <td>264103.820000</td>\n",
       "      <td>1.000000</td>\n",
       "      <td>1.000000</td>\n",
       "      <td>1.000000</td>\n",
       "      <td>1.000000</td>\n",
       "      <td>1.000000</td>\n",
       "      <td>1.000000</td>\n",
       "      <td>1.000000</td>\n",
       "      <td>1.000000</td>\n",
       "    </tr>\n",
       "  </tbody>\n",
       "</table>\n",
       "</div>"
      ],
      "text/plain": [
       "              salary         age  vol_weekly_trans  vol_large_trans  \\\n",
       "count     100.000000  100.000000        100.000000       100.000000   \n",
       "mean    67103.639579   31.770000         14.442699         3.860000   \n",
       "std     25079.318644   11.544254          5.284075         2.930233   \n",
       "min     29405.020082   18.000000          7.000000         0.000000   \n",
       "25%     48074.987679   22.000000         11.184091         2.000000   \n",
       "50%     59861.735625   29.500000         13.579134         3.000000   \n",
       "75%     83591.962902   39.250000         15.812500         5.000000   \n",
       "max    135038.664643   78.000000         45.329268        15.000000   \n",
       "\n",
       "          pur_med      pur_max    pur_mean  age_below_40  age_above_40  \\\n",
       "count  100.000000   100.000000  100.000000    100.000000    100.000000   \n",
       "mean    25.071850   754.094200   48.797409      0.800000      0.200000   \n",
       "std      9.942594  1027.711536   33.723821      0.402015      0.402015   \n",
       "min     10.700000    17.950000   12.625000      0.000000      0.000000   \n",
       "25%     17.685000   204.187500   30.572128      1.000000      0.000000   \n",
       "50%     23.395000   398.025000   38.292905      1.000000      0.000000   \n",
       "75%     28.593750   945.702500   55.486615      1.000000      0.000000   \n",
       "max     59.010000  7081.090000  241.917778      1.000000      1.000000   \n",
       "\n",
       "           dist_med        bal_med    gender_F    gender_M   state_NSW  \\\n",
       "count    100.000000     100.000000  100.000000  100.000000  100.000000   \n",
       "mean     383.051287   17615.427500    0.440000    0.560000    0.290000   \n",
       "std     1236.073434   35407.246539    0.498888    0.498888    0.456048   \n",
       "min        8.022262    1132.660000    0.000000    0.000000    0.000000   \n",
       "25%       18.982986    4640.597500    0.000000    0.000000    0.000000   \n",
       "50%       25.996355    7361.767500    0.000000    1.000000    0.000000   \n",
       "75%      111.448800   12843.655000    1.000000    1.000000    1.000000   \n",
       "max    10814.305954  264103.820000    1.000000    1.000000    1.000000   \n",
       "\n",
       "         state_NT   state_QLD    state_SA   state_VIC    state_WA  \n",
       "count  100.000000  100.000000  100.000000  100.000000  100.000000  \n",
       "mean     0.020000    0.100000    0.070000    0.390000    0.130000  \n",
       "std      0.140705    0.301511    0.256432    0.490207    0.337998  \n",
       "min      0.000000    0.000000    0.000000    0.000000    0.000000  \n",
       "25%      0.000000    0.000000    0.000000    0.000000    0.000000  \n",
       "50%      0.000000    0.000000    0.000000    0.000000    0.000000  \n",
       "75%      0.000000    0.000000    0.000000    1.000000    0.000000  \n",
       "max      1.000000    1.000000    1.000000    1.000000    1.000000  "
      ]
     },
     "execution_count": 25,
     "metadata": {},
     "output_type": "execute_result"
    }
   ],
   "source": [
    "df_customer.describe()"
   ]
  },
  {
   "cell_type": "code",
   "execution_count": 48,
   "id": "ecbbd366-e574-48a6-ba61-8c3cbfee1866",
   "metadata": {},
   "outputs": [],
   "source": [
    "# sns.pairplot(df_customer.iloc[1:])"
   ]
  },
  {
   "cell_type": "code",
   "execution_count": 27,
   "id": "53f20716-6c04-4f2f-a0fc-7bd248a2b91b",
   "metadata": {},
   "outputs": [
    {
     "data": {
      "text/plain": [
       "<AxesSubplot:>"
      ]
     },
     "execution_count": 27,
     "metadata": {},
     "output_type": "execute_result"
    },
    {
     "data": {
      "image/png": "[encoded data removed]",
      "text/plain": [
       "<Figure size 432x288 with 2 Axes>"
      ]
     },
     "metadata": {},
     "output_type": "display_data"
    }
   ],
   "source": [
    "sns.heatmap(df_customer.iloc[1:].corr(), cmap='coolwarm')"
   ]
  },
  {
   "cell_type": "markdown",
   "id": "af70969c-f393-4724-86d9-54fda62636ec",
   "metadata": {},
   "source": [
    "### Modelling"
   ]
  },
  {
   "cell_type": "markdown",
   "id": "8c4eb34f-801d-4121-ace2-74d24353a3cf",
   "metadata": {},
   "source": [
    "#### Linear regression with full data and backward selection"
   ]
  },
  {
   "cell_type": "code",
   "execution_count": 28,
   "id": "2b7792b1-a6a4-4c16-86ea-fced756438a8",
   "metadata": {},
   "outputs": [],
   "source": [
    "col = df_customer.columns.to_list()"
   ]
  },
  {
   "cell_type": "code",
   "execution_count": 29,
   "id": "5d0d0e12-31a1-4d6b-a36d-19d55baeccb5",
   "metadata": {},
   "outputs": [],
   "source": [
    "X = df_customer[col[2:]]\n",
    "y = df_customer[col[1]]"
   ]
  },
  {
   "cell_type": "code",
   "execution_count": 62,
   "id": "891a1317-a8e2-4235-97cc-f1c93d5ee414",
   "metadata": {},
   "outputs": [
    {
     "data": {
      "text/html": [
       "<table class=\"simpletable\">\n",
       "<caption>OLS Regression Results</caption>\n",
       "<tr>\n",
       "  <th>Dep. Variable:</th>         <td>salary</td>      <th>  R-squared:         </th> <td>   0.091</td>\n",
       "</tr>\n",
       "<tr>\n",
       "  <th>Model:</th>                   <td>OLS</td>       <th>  Adj. R-squared:    </th> <td>   0.062</td>\n",
       "</tr>\n",
       "<tr>\n",
       "  <th>Method:</th>             <td>Least Squares</td>  <th>  F-statistic:       </th> <td>   3.184</td>\n",
       "</tr>\n",
       "<tr>\n",
       "  <th>Date:</th>             <td>Thu, 09 Sep 2021</td> <th>  Prob (F-statistic):</th>  <td>0.0273</td> \n",
       "</tr>\n",
       "<tr>\n",
       "  <th>Time:</th>                 <td>11:12:56</td>     <th>  Log-Likelihood:    </th> <td> -1149.6</td>\n",
       "</tr>\n",
       "<tr>\n",
       "  <th>No. Observations:</th>      <td>   100</td>      <th>  AIC:               </th> <td>   2307.</td>\n",
       "</tr>\n",
       "<tr>\n",
       "  <th>Df Residuals:</th>          <td>    96</td>      <th>  BIC:               </th> <td>   2318.</td>\n",
       "</tr>\n",
       "<tr>\n",
       "  <th>Df Model:</th>              <td>     3</td>      <th>                     </th>     <td> </td>   \n",
       "</tr>\n",
       "<tr>\n",
       "  <th>Covariance Type:</th>      <td>nonrobust</td>    <th>                     </th>     <td> </td>   \n",
       "</tr>\n",
       "</table>\n",
       "<table class=\"simpletable\">\n",
       "<tr>\n",
       "        <td></td>          <th>coef</th>     <th>std err</th>      <th>t</th>      <th>P>|t|</th>  <th>[0.025</th>    <th>0.975]</th>  \n",
       "</tr>\n",
       "<tr>\n",
       "  <th>const</th>        <td> 2.996e+04</td> <td> 1717.307</td> <td>   17.443</td> <td> 0.000</td> <td> 2.65e+04</td> <td> 3.34e+04</td>\n",
       "</tr>\n",
       "<tr>\n",
       "  <th>age_below_40</th> <td> 2.225e+04</td> <td> 2662.551</td> <td>    8.356</td> <td> 0.000</td> <td>  1.7e+04</td> <td> 2.75e+04</td>\n",
       "</tr>\n",
       "<tr>\n",
       "  <th>age_above_40</th> <td> 7706.0639</td> <td> 3687.003</td> <td>    2.090</td> <td> 0.039</td> <td>  387.420</td> <td>  1.5e+04</td>\n",
       "</tr>\n",
       "<tr>\n",
       "  <th>bal_med</th>      <td>    0.1459</td> <td>    0.071</td> <td>    2.054</td> <td> 0.043</td> <td>    0.005</td> <td>    0.287</td>\n",
       "</tr>\n",
       "<tr>\n",
       "  <th>gender_F</th>     <td> 1.281e+04</td> <td> 2627.907</td> <td>    4.875</td> <td> 0.000</td> <td> 7595.808</td> <td>  1.8e+04</td>\n",
       "</tr>\n",
       "<tr>\n",
       "  <th>gender_M</th>     <td> 1.714e+04</td> <td> 2604.360</td> <td>    6.582</td> <td> 0.000</td> <td>  1.2e+04</td> <td> 2.23e+04</td>\n",
       "</tr>\n",
       "</table>\n",
       "<table class=\"simpletable\">\n",
       "<tr>\n",
       "  <th>Omnibus:</th>       <td>13.811</td> <th>  Durbin-Watson:     </th> <td>   1.855</td>\n",
       "</tr>\n",
       "<tr>\n",
       "  <th>Prob(Omnibus):</th> <td> 0.001</td> <th>  Jarque-Bera (JB):  </th> <td>  15.082</td>\n",
       "</tr>\n",
       "<tr>\n",
       "  <th>Skew:</th>          <td> 0.921</td> <th>  Prob(JB):          </th> <td>0.000531</td>\n",
       "</tr>\n",
       "<tr>\n",
       "  <th>Kurtosis:</th>      <td> 3.473</td> <th>  Cond. No.          </th> <td>2.51e+20</td>\n",
       "</tr>\n",
       "</table><br/><br/>Notes:<br/>[1] Standard Errors assume that the covariance matrix of the errors is correctly specified.<br/>[2] The smallest eigenvalue is 2.47e-30. This might indicate that there are<br/>strong multicollinearity problems or that the design matrix is singular."
      ],
      "text/plain": [
       "<class 'statsmodels.iolib.summary.Summary'>\n",
       "\"\"\"\n",
       "                            OLS Regression Results                            \n",
       "==============================================================================\n",
       "Dep. Variable:                 salary   R-squared:                       0.091\n",
       "Model:                            OLS   Adj. R-squared:                  0.062\n",
       "Method:                 Least Squares   F-statistic:                     3.184\n",
       "Date:                Thu, 09 Sep 2021   Prob (F-statistic):             0.0273\n",
       "Time:                        11:12:56   Log-Likelihood:                -1149.6\n",
       "No. Observations:                 100   AIC:                             2307.\n",
       "Df Residuals:                      96   BIC:                             2318.\n",
       "Df Model:                           3                                         \n",
       "Covariance Type:            nonrobust                                         \n",
       "================================================================================\n",
       "                   coef    std err          t      P>|t|      [0.025      0.975]\n",
       "--------------------------------------------------------------------------------\n",
       "const         2.996e+04   1717.307     17.443      0.000    2.65e+04    3.34e+04\n",
       "age_below_40  2.225e+04   2662.551      8.356      0.000     1.7e+04    2.75e+04\n",
       "age_above_40  7706.0639   3687.003      2.090      0.039     387.420     1.5e+04\n",
       "bal_med          0.1459      0.071      2.054      0.043       0.005       0.287\n",
       "gender_F      1.281e+04   2627.907      4.875      0.000    7595.808     1.8e+04\n",
       "gender_M      1.714e+04   2604.360      6.582      0.000     1.2e+04    2.23e+04\n",
       "==============================================================================\n",
       "Omnibus:                       13.811   Durbin-Watson:                   1.855\n",
       "Prob(Omnibus):                  0.001   Jarque-Bera (JB):               15.082\n",
       "Skew:                           0.921   Prob(JB):                     0.000531\n",
       "Kurtosis:                       3.473   Cond. No.                     2.51e+20\n",
       "==============================================================================\n",
       "\n",
       "Notes:\n",
       "[1] Standard Errors assume that the covariance matrix of the errors is correctly specified.\n",
       "[2] The smallest eigenvalue is 2.47e-30. This might indicate that there are\n",
       "strong multicollinearity problems or that the design matrix is singular.\n",
       "\"\"\""
      ]
     },
     "execution_count": 62,
     "metadata": {},
     "output_type": "execute_result"
    }
   ],
   "source": [
    "# by backward selection, we eliminate features of which p-value are more than 0.05\n",
    "X_back = X.drop(['age', 'vol_large_trans', 'vol_weekly_trans', 'pur_med', 'pur_max', 'pur_mean', 'state_NSW', 'state_NT', 'state_QLD', 'state_SA', 'state_VIC', 'state_WA', 'dist_med'], axis=1)\n",
    "x = sm.add_constant(X_back) \n",
    "results = sm.OLS(y,x).fit()\n",
    "results.summary()"
   ]
  },
  {
   "cell_type": "markdown",
   "id": "c7f0c789-7cc5-4b83-9b49-f10cd462c793",
   "metadata": {},
   "source": [
    "#### Linear regression with training data and predictions"
   ]
  },
  {
   "cell_type": "code",
   "execution_count": 41,
   "id": "d71beaa9-de26-47d7-a32b-912d3e66b7ac",
   "metadata": {},
   "outputs": [],
   "source": [
    "# divide date to training and testing data with 20% being testing data\n",
    "X_train, X_test, y_train, y_test = train_test_split(X_back, y, test_size=0.3, random_state=42)"
   ]
  },
  {
   "cell_type": "code",
   "execution_count": 42,
   "id": "c4cac678-9c1c-455b-944a-56dd24ce47d5",
   "metadata": {},
   "outputs": [],
   "source": [
    "lm = LinearRegression()"
   ]
  },
  {
   "cell_type": "code",
   "execution_count": 43,
   "id": "dcc7c5e8-6d09-434b-adee-f1109faed633",
   "metadata": {},
   "outputs": [
    {
     "data": {
      "text/plain": [
       "LinearRegression()"
      ]
     },
     "execution_count": 43,
     "metadata": {},
     "output_type": "execute_result"
    }
   ],
   "source": [
    "lm.fit(X_train,y_train)"
   ]
  },
  {
   "cell_type": "code",
   "execution_count": 56,
   "id": "915141b5-64bf-4184-bc14-5be11ad03c48",
   "metadata": {},
   "outputs": [
    {
     "data": {
      "text/html": [
       "<div>\n",
       "<style scoped>\n",
       "    .dataframe tbody tr th:only-of-type {\n",
       "        vertical-align: middle;\n",
       "    }\n",
       "\n",
       "    .dataframe tbody tr th {\n",
       "        vertical-align: top;\n",
       "    }\n",
       "\n",
       "    .dataframe thead th {\n",
       "        text-align: right;\n",
       "    }\n",
       "</style>\n",
       "<table border=\"1\" class=\"dataframe\">\n",
       "  <thead>\n",
       "    <tr style=\"text-align: right;\">\n",
       "      <th></th>\n",
       "      <th>coefficient</th>\n",
       "    </tr>\n",
       "  </thead>\n",
       "  <tbody>\n",
       "    <tr>\n",
       "      <th>age_below_40</th>\n",
       "      <td>11599.298515</td>\n",
       "    </tr>\n",
       "    <tr>\n",
       "      <th>age_above_40</th>\n",
       "      <td>-11599.298515</td>\n",
       "    </tr>\n",
       "    <tr>\n",
       "      <th>bal_med</th>\n",
       "      <td>0.123550</td>\n",
       "    </tr>\n",
       "    <tr>\n",
       "      <th>gender_F</th>\n",
       "      <td>-1562.502865</td>\n",
       "    </tr>\n",
       "    <tr>\n",
       "      <th>gender_M</th>\n",
       "      <td>1562.502865</td>\n",
       "    </tr>\n",
       "  </tbody>\n",
       "</table>\n",
       "</div>"
      ],
      "text/plain": [
       "               coefficient\n",
       "age_below_40  11599.298515\n",
       "age_above_40 -11599.298515\n",
       "bal_med           0.123550\n",
       "gender_F      -1562.502865\n",
       "gender_M       1562.502865"
      ]
     },
     "execution_count": 56,
     "metadata": {},
     "output_type": "execute_result"
    }
   ],
   "source": [
    "# coefficient\n",
    "pd.DataFrame(lm.coef_, X_back.columns, columns=['coefficient'])"
   ]
  },
  {
   "cell_type": "code",
   "execution_count": 57,
   "id": "bae3468b-5e8e-4e29-87c9-8e96d32a35e0",
   "metadata": {},
   "outputs": [
    {
     "data": {
      "text/plain": [
       "59007.40406846208"
      ]
     },
     "execution_count": 57,
     "metadata": {},
     "output_type": "execute_result"
    }
   ],
   "source": [
    "# intercept\n",
    "lm.intercept_"
   ]
  },
  {
   "cell_type": "code",
   "execution_count": 45,
   "id": "5f812271-fbdf-45db-92e4-70e56bf431a9",
   "metadata": {},
   "outputs": [],
   "source": [
    "predictions = lm.predict(X_test)"
   ]
  },
  {
   "cell_type": "markdown",
   "id": "71b689e4-2f58-4cf4-80ef-85f4ce35155b",
   "metadata": {},
   "source": [
    "#### Model evaluation"
   ]
  },
  {
   "cell_type": "code",
   "execution_count": 46,
   "id": "bad0d1e1-b251-4f0d-aba3-f9017aca3e70",
   "metadata": {},
   "outputs": [
    {
     "name": "stdout",
     "output_type": "stream",
     "text": [
      "RMSE: 25580.855681178728\n"
     ]
    }
   ],
   "source": [
    "print('RMSE:', np.sqrt(metrics.mean_squared_error(y_test, predictions)))"
   ]
  },
  {
   "cell_type": "markdown",
   "id": "b9bbda96-92bf-4aed-a168-5b0b51d007e5",
   "metadata": {},
   "source": [
    "> The RMSE is large and the ajusted R-squared suggest that only 6.2% of the target is explained. This is inevitable as the sample size is only 100. We need more data to develop a better performing model."
   ]
  }
 ],
 "metadata": {
  "kernelspec": {
   "display_name": "Python 3",
   "language": "python",
   "name": "python3"
  },
  "language_info": {
   "codemirror_mode": {
    "name": "ipython",
    "version": 3
   },
   "file_extension": ".py",
   "mimetype": "text/x-python",
   "name": "python",
   "nbconvert_exporter": "python",
   "pygments_lexer": "ipython3",
   "version": "3.9.1"
  }
 },
 "nbformat": 4,
 "nbformat_minor": 5
}
